{
 "cells": [
  {
   "cell_type": "code",
   "execution_count": 4,
   "id": "7875e733",
   "metadata": {},
   "outputs": [
    {
     "name": "stdout",
     "output_type": "stream",
     "text": [
      "hello\n",
      "-0.003667399999997656\n"
     ]
    }
   ],
   "source": [
    "import timeit\n",
    "start = timeit.timeit()\n",
    "print(\"hello\")\n",
    "end = timeit.timeit()\n",
    "print(end - start)"
   ]
  },
  {
   "cell_type": "markdown",
   "id": "cf6287d6",
   "metadata": {},
   "source": [
    "# Two pointer method in sorted array"
   ]
  },
  {
   "cell_type": "code",
   "execution_count": 8,
   "id": "71e4030d",
   "metadata": {},
   "outputs": [
    {
     "name": "stdout",
     "output_type": "stream",
     "text": [
      "[3, 4, 4, 4, 4, 5, 7, 8, 10, 13, 20, 23, 23, 35, 42, 43, 50, 54, 56, 56, 75, 76, 80, 85, 223, 345, 423, 423, 423, 678, 345234]\n",
      "10 16\n",
      "20 50\n",
      "-0.0017794999999978245\n"
     ]
    }
   ],
   "source": [
    "import timeit\n",
    "start = timeit.timeit()\n",
    "\n",
    "\n",
    "def findsum(arr,X):\n",
    "    start =0 \n",
    "    end = len(arr)-1\n",
    "    while start<end:\n",
    "        if arr[start] + arr[end] == X:\n",
    "            print(start,end)\n",
    "            print(arr[start],arr[end])\n",
    "            break\n",
    "        elif arr[start]+arr[end] < X:\n",
    "            start +=1\n",
    "        else:\n",
    "            end -=1    \n",
    "arr = [10,20,35,50,75,80,85,223,23,4,423,423,4,23,5,345,4,56,54,7,56,76,8,678,345234,3,423,4,13,43,42]\n",
    "arr = sorted(arr)\n",
    "print(arr)\n",
    "X = 70\n",
    "findsum(arr,X)\n",
    "end = timeit.timeit()\n",
    "print(end - start)"
   ]
  },
  {
   "cell_type": "markdown",
   "id": "ddf6c353",
   "metadata": {},
   "source": [
    "# Two pointer method in unsorted array"
   ]
  },
  {
   "cell_type": "code",
   "execution_count": 16,
   "id": "40928b1b",
   "metadata": {},
   "outputs": [
    {
     "data": {
      "text/plain": [
       "False"
      ]
     },
     "execution_count": 16,
     "metadata": {},
     "output_type": "execute_result"
    }
   ],
   "source": [
    "def cal_pair_sum(arr,X):\n",
    "    pointer_1 = 0\n",
    "    while pointer_1<len(arr):\n",
    "        pointer_1 +=1\n",
    "        pointer_2 = 0\n",
    "        while pointer_1<len(arr):\n",
    "            if(arr[pointer_1] + arr[pointer_2] == X):\n",
    "                return True\n",
    "            if(arr[pointer_1] + arr[pointer_2] >X):\n",
    "                break\n",
    "            pointer_2 = pointer_2+1\n",
    "    return False\n",
    "    \n",
    "arr = [12,2,32,32,3,24,34,324,234]\n",
    "X = 5\n",
    "cal_pair_sum(arr,X)"
   ]
  },
  {
   "cell_type": "markdown",
   "id": "94cd4ecc",
   "metadata": {},
   "source": [
    "# Find duplicate numbers using two pointer methd"
   ]
  },
  {
   "cell_type": "code",
   "execution_count": null,
   "id": "e6b0ff4a",
   "metadata": {},
   "outputs": [],
   "source": [
    "def function(arr,num):\n",
    "    start = 0\n",
    "    end = len(arr)\n",
    "    while start<end:\n",
    "        if arr[start] ==arr[end]:\n",
    "            return True\n",
    "        elif arr"
   ]
  },
  {
   "cell_type": "code",
   "execution_count": null,
   "id": "5ec89569",
   "metadata": {},
   "outputs": [],
   "source": [
    "class Trade:\n",
    "    \n",
    "    def __init__(self, trade_id,amount,name_of_coin,Date_of_trade,Tradetype):\n",
    "        self.trade_id = input()\n",
    "        self.amount = input()\n",
    "        self.name_of_coin =input()\n",
    "        self.Date_of_trade = input()\n",
    "        self.Tradetype = input()  \n",
    "class Crypto:\n",
    "    \n",
    "    def __init__(self):\n",
    "        self.yearoftrade = input()\n",
    "        print(Trade.amount())\n",
    "        "
   ]
  }
 ],
 "metadata": {
  "kernelspec": {
   "display_name": "Python 3 (ipykernel)",
   "language": "python",
   "name": "python3"
  },
  "language_info": {
   "codemirror_mode": {
    "name": "ipython",
    "version": 3
   },
   "file_extension": ".py",
   "mimetype": "text/x-python",
   "name": "python",
   "nbconvert_exporter": "python",
   "pygments_lexer": "ipython3",
   "version": "3.9.7"
  }
 },
 "nbformat": 4,
 "nbformat_minor": 5
}
